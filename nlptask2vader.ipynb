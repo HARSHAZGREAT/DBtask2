{
 "cells": [
  {
   "cell_type": "code",
   "execution_count": 1,
   "id": "99418fe6",
   "metadata": {
    "_cell_guid": "b1076dfc-b9ad-4769-8c92-a6c4dae69d19",
    "_uuid": "8f2839f25d086af736a60e9eeb907d3b93b6e0e5",
    "execution": {
     "iopub.execute_input": "2023-08-16T06:49:55.047315Z",
     "iopub.status.busy": "2023-08-16T06:49:55.046872Z",
     "iopub.status.idle": "2023-08-16T06:49:56.890824Z",
     "shell.execute_reply": "2023-08-16T06:49:56.889847Z"
    },
    "papermill": {
     "duration": 1.853358,
     "end_time": "2023-08-16T06:49:56.893583",
     "exception": false,
     "start_time": "2023-08-16T06:49:55.040225",
     "status": "completed"
    },
    "tags": []
   },
   "outputs": [
    {
     "name": "stderr",
     "output_type": "stream",
     "text": [
      "/opt/conda/lib/python3.10/site-packages/scipy/__init__.py:146: UserWarning: A NumPy version >=1.16.5 and <1.23.0 is required for this version of SciPy (detected version 1.23.5\n",
      "  warnings.warn(f\"A NumPy version >={np_minversion} and <{np_maxversion}\"\n"
     ]
    }
   ],
   "source": [
    "import numpy as np\n",
    "import pandas as pd \n",
    "import os\n",
    "import csv\n",
    "import random\n",
    "import string\n",
    "import nltk\n",
    "from nltk.stem import PorterStemmer\n",
    "from nltk.tokenize import word_tokenize\n",
    "import sklearn\n",
    "from sklearn.feature_extraction.text import TfidfVectorizer\n",
    "from sklearn.model_selection import train_test_split\n",
    "from sklearn.linear_model import LogisticRegression\n",
    "from sklearn.metrics import accuracy_score\n",
    "from collections import Counter\n"
   ]
  },
  {
   "cell_type": "code",
   "execution_count": 2,
   "id": "f090a10c",
   "metadata": {
    "execution": {
     "iopub.execute_input": "2023-08-16T06:49:56.904727Z",
     "iopub.status.busy": "2023-08-16T06:49:56.903975Z",
     "iopub.status.idle": "2023-08-16T06:50:11.615571Z",
     "shell.execute_reply": "2023-08-16T06:50:11.614160Z"
    },
    "papermill": {
     "duration": 14.720302,
     "end_time": "2023-08-16T06:50:11.618491",
     "exception": false,
     "start_time": "2023-08-16T06:49:56.898189",
     "status": "completed"
    },
    "tags": []
   },
   "outputs": [
    {
     "name": "stdout",
     "output_type": "stream",
     "text": [
      "Collecting vaderSentiment\r\n",
      "  Downloading vaderSentiment-3.3.2-py2.py3-none-any.whl (125 kB)\r\n",
      "\u001b[2K     \u001b[90m━━━━━━━━━━━━━━━━━━━━━━━━━━━━━━━━━━━━━━━\u001b[0m \u001b[32m126.0/126.0 kB\u001b[0m \u001b[31m5.0 MB/s\u001b[0m eta \u001b[36m0:00:00\u001b[0m\r\n",
      "\u001b[?25hRequirement already satisfied: requests in /opt/conda/lib/python3.10/site-packages (from vaderSentiment) (2.31.0)\r\n",
      "Requirement already satisfied: charset-normalizer<4,>=2 in /opt/conda/lib/python3.10/site-packages (from requests->vaderSentiment) (3.1.0)\r\n",
      "Requirement already satisfied: idna<4,>=2.5 in /opt/conda/lib/python3.10/site-packages (from requests->vaderSentiment) (3.4)\r\n",
      "Requirement already satisfied: urllib3<3,>=1.21.1 in /opt/conda/lib/python3.10/site-packages (from requests->vaderSentiment) (1.26.15)\r\n",
      "Requirement already satisfied: certifi>=2017.4.17 in /opt/conda/lib/python3.10/site-packages (from requests->vaderSentiment) (2023.5.7)\r\n",
      "Installing collected packages: vaderSentiment\r\n",
      "Successfully installed vaderSentiment-3.3.2\r\n"
     ]
    }
   ],
   "source": [
    "!pip install vaderSentiment\n",
    "from vaderSentiment.vaderSentiment import SentimentIntensityAnalyzer"
   ]
  },
  {
   "cell_type": "code",
   "execution_count": 3,
   "id": "f1b3f4f9",
   "metadata": {
    "execution": {
     "iopub.execute_input": "2023-08-16T06:50:11.630548Z",
     "iopub.status.busy": "2023-08-16T06:50:11.630154Z",
     "iopub.status.idle": "2023-08-16T06:50:11.661334Z",
     "shell.execute_reply": "2023-08-16T06:50:11.660128Z"
    },
    "papermill": {
     "duration": 0.040367,
     "end_time": "2023-08-16T06:50:11.663887",
     "exception": false,
     "start_time": "2023-08-16T06:50:11.623520",
     "status": "completed"
    },
    "tags": []
   },
   "outputs": [],
   "source": [
    "for dirname, _, filenames in os.walk('/kaggle/input'):\n",
    "    for filename in filenames:\n",
    "        if '.csv' in filename:\n",
    "            data_path = os.path.join(dirname, filename)\n",
    "        else:\n",
    "            stopword_path = '/kaggle/input/stopwords/stopwords/english'"
   ]
  },
  {
   "cell_type": "code",
   "execution_count": 4,
   "id": "61c685e9",
   "metadata": {
    "execution": {
     "iopub.execute_input": "2023-08-16T06:50:11.675056Z",
     "iopub.status.busy": "2023-08-16T06:50:11.674667Z",
     "iopub.status.idle": "2023-08-16T06:50:19.299602Z",
     "shell.execute_reply": "2023-08-16T06:50:19.298374Z"
    },
    "papermill": {
     "duration": 7.633399,
     "end_time": "2023-08-16T06:50:19.302235",
     "exception": false,
     "start_time": "2023-08-16T06:50:11.668836",
     "status": "completed"
    },
    "tags": []
   },
   "outputs": [
    {
     "name": "stdout",
     "output_type": "stream",
     "text": [
      "/kaggle/input/stopwords/stopwords/english /kaggle/input/sentiment140/training.1600000.processed.noemoticon.csv\n",
      "<class 'pandas.core.series.Series'>\n"
     ]
    }
   ],
   "source": [
    "print(stopword_path, data_path)\n",
    "data = pd.read_csv(data_path, encoding='ISO-8859-1', names=[\"sentiment\", \"ids\", \"date\", \"flag\", \"user\", \"text\"])\n",
    "data = data[['sentiment', 'text']]\n",
    "data = data.sample(frac= 0.0001, random_state= 69)\n",
    "X, Y = data['text'], data['sentiment']\n",
    "print(type(X))"
   ]
  },
  {
   "cell_type": "code",
   "execution_count": 5,
   "id": "05bc15e5",
   "metadata": {
    "execution": {
     "iopub.execute_input": "2023-08-16T06:50:19.314734Z",
     "iopub.status.busy": "2023-08-16T06:50:19.313976Z",
     "iopub.status.idle": "2023-08-16T06:50:19.331003Z",
     "shell.execute_reply": "2023-08-16T06:50:19.329881Z"
    },
    "papermill": {
     "duration": 0.027135,
     "end_time": "2023-08-16T06:50:19.334575",
     "exception": false,
     "start_time": "2023-08-16T06:50:19.307440",
     "status": "completed"
    },
    "tags": []
   },
   "outputs": [
    {
     "name": "stdout",
     "output_type": "stream",
     "text": [
      "dataset contains  160  rows\n"
     ]
    },
    {
     "data": {
      "text/plain": [
       "4    0.5375\n",
       "0    0.4625\n",
       "Name: sentiment, dtype: float64"
      ]
     },
     "execution_count": 5,
     "metadata": {},
     "output_type": "execute_result"
    }
   ],
   "source": [
    "print('dataset contains ', data.shape[0], ' rows')\n",
    "Y.value_counts(normalize=True)"
   ]
  },
  {
   "cell_type": "code",
   "execution_count": 6,
   "id": "2f22de44",
   "metadata": {
    "execution": {
     "iopub.execute_input": "2023-08-16T06:50:19.347955Z",
     "iopub.status.busy": "2023-08-16T06:50:19.346855Z",
     "iopub.status.idle": "2023-08-16T06:50:19.363574Z",
     "shell.execute_reply": "2023-08-16T06:50:19.362281Z"
    },
    "papermill": {
     "duration": 0.026085,
     "end_time": "2023-08-16T06:50:19.366129",
     "exception": false,
     "start_time": "2023-08-16T06:50:19.340044",
     "status": "completed"
    },
    "tags": []
   },
   "outputs": [
    {
     "name": "stdout",
     "output_type": "stream",
     "text": [
      "['i', 'me', 'my', 'myself', 'we', 'our', 'ours', 'ourselves', 'you', 'your', 'yours', 'yourself', 'yourselves', 'he', 'him', 'his', 'himself', 'she', 'her', 'hers', 'herself', 'it', 'its', 'itself', 'they', 'them', 'their', 'theirs', 'themselves', 'what', 'which', 'who', 'whom', 'this', 'that', 'these', 'those', 'am', 'is', 'are', 'was', 'were', 'be', 'been', 'being', 'have', 'has', 'had', 'having', 'do', 'does', 'did', 'doing', 'a', 'an', 'the', 'and', 'but', 'if', 'or', 'because', 'as', 'until', 'while', 'of', 'at', 'by', 'for', 'with', 'about', 'against', 'between', 'into', 'through', 'during', 'before', 'after', 'above', 'below', 'to', 'from', 'up', 'down', 'in', 'out', 'on', 'off', 'over', 'under', 'again', 'further', 'then', 'once', 'here', 'there', 'when', 'where', 'why', 'how', 'all', 'any', 'both', 'each', 'few', 'more', 'most', 'other', 'some', 'such', 'no', 'nor', 'not', 'only', 'own', 'same', 'so', 'than', 'too', 'very', 's', 't', 'can', 'will', 'just', 'don', 'should', 'now', 'd', 'll', 'm', 'o', 're', 've', 'y', 'ain', 'aren', 'couldn', 'didn', 'doesn', 'hadn', 'hasn', 'haven', 'isn', 'ma', 'mightn', 'mustn', 'needn', 'shan', 'shouldn', 'wasn', 'weren', 'won', 'wouldn', 'your', 'u', 'my']\n",
      "331760     @michellebranch oh my!!!  I hope the videoshoo...\n",
      "438241                                      Woke up to pain \n",
      "364313     @StayClassySon you're soo lucky! no fair, i st...\n",
      "179622     1st- TY to those who follow back.  2nd - grrr ...\n",
      "1514041    @BunnyBridget  who cares u could eat a million...\n",
      "932925     Maita: chillin in CH's house in between shoots...\n",
      "730618     tool in Ubunutu for creating effects with wind...\n",
      "468854     @The_cobra666 @opinion8ed_dyke  yeah but this ...\n",
      "225427     @ba1L33 If they get it... still a few financin...\n",
      "1537939                          wotsits are the boom diggy \n",
      "Name: text, dtype: object\n"
     ]
    }
   ],
   "source": [
    "with open(stopword_path) as f:\n",
    "    stopwords_list= f.readlines()\n",
    "    stopwords = []\n",
    "    for i in range(len(stopwords_list)):\n",
    "        a = stopwords_list[i]\n",
    "        b = a.strip('\\n').lower()\n",
    "        stopwords.append(b)\n",
    "\n",
    "extras = ['your', 'u', 'my']\n",
    "stopwords.extend(extras)\n",
    "print(stopwords)\n",
    "print(X.head(10))"
   ]
  },
  {
   "cell_type": "code",
   "execution_count": 7,
   "id": "f3e02c6d",
   "metadata": {
    "execution": {
     "iopub.execute_input": "2023-08-16T06:50:19.379320Z",
     "iopub.status.busy": "2023-08-16T06:50:19.378884Z",
     "iopub.status.idle": "2023-08-16T06:50:19.637993Z",
     "shell.execute_reply": "2023-08-16T06:50:19.636809Z"
    },
    "papermill": {
     "duration": 0.268683,
     "end_time": "2023-08-16T06:50:19.640693",
     "exception": false,
     "start_time": "2023-08-16T06:50:19.372010",
     "status": "completed"
    },
    "tags": []
   },
   "outputs": [
    {
     "name": "stdout",
     "output_type": "stream",
     "text": [
      "[nltk_data] Downloading package punkt to /usr/share/nltk_data...\n",
      "[nltk_data]   Package punkt is already up-to-date!\n"
     ]
    }
   ],
   "source": [
    "special_characters = list(string.punctuation)\n",
    "\n",
    "nltk.download('punkt')\n",
    "stemmer = PorterStemmer()\n",
    "\n",
    "def remove_stopwords(text):\n",
    "    text_wostemming = ''\n",
    "    text_words = text.lower()\n",
    "    text_words = text_words.split()\n",
    "    sentiment_words = [word for word in text_words if word not in stopwords]\n",
    "    sentiment_text = ' '.join(sentiment_words)\n",
    "    for i in sentiment_text:\n",
    "        if i in special_characters:\n",
    "            continue\n",
    "        else:\n",
    "            text_wostemming = text_wostemming + i\n",
    "    words = word_tokenize(text_wostemming)\n",
    "    stemmed_words = [stemmer.stem(i) for i in words]\n",
    "    stemmed_text = ' '.join(stemmed_words)\n",
    "    return stemmed_text\n",
    "\n",
    "X = X.apply(remove_stopwords)"
   ]
  },
  {
   "cell_type": "code",
   "execution_count": 8,
   "id": "8962c6ae",
   "metadata": {
    "execution": {
     "iopub.execute_input": "2023-08-16T06:50:19.654040Z",
     "iopub.status.busy": "2023-08-16T06:50:19.653647Z",
     "iopub.status.idle": "2023-08-16T06:50:19.661480Z",
     "shell.execute_reply": "2023-08-16T06:50:19.660332Z"
    },
    "papermill": {
     "duration": 0.01755,
     "end_time": "2023-08-16T06:50:19.664044",
     "exception": false,
     "start_time": "2023-08-16T06:50:19.646494",
     "status": "completed"
    },
    "tags": []
   },
   "outputs": [
    {
     "name": "stdout",
     "output_type": "stream",
     "text": [
      "Index(['sentiment', 'text'], dtype='object')\n",
      "(160, 2)\n",
      "331760     michellebranch oh my hope videoshoot kickass then\n",
      "438241                                             woke pain\n",
      "364313        stayclassyson your soo lucki fair still 2 week\n",
      "179622     1st ty follow back 2nd grrr dont cuz mess abl ...\n",
      "1514041    bunnybridget care could eat million still look...\n",
      "                                 ...                        \n",
      "1358596    sbeecreat lol oddli enough dont eat much lobst...\n",
      "1209105    markhoppu declar republican prop8 get 0 follow...\n",
      "1185147    gmanandrizk ye love itbad busi peepsbut travel...\n",
      "951098     lilyrose74 lol give happi till 830 work today ...\n",
      "110018                               jamash that noth happen\n",
      "Name: text, Length: 160, dtype: object\n"
     ]
    }
   ],
   "source": [
    "print(data.columns)\n",
    "print(data.shape)\n",
    "print(X)"
   ]
  },
  {
   "cell_type": "code",
   "execution_count": 9,
   "id": "dfea336d",
   "metadata": {
    "execution": {
     "iopub.execute_input": "2023-08-16T06:50:19.676951Z",
     "iopub.status.busy": "2023-08-16T06:50:19.676562Z",
     "iopub.status.idle": "2023-08-16T06:50:19.697043Z",
     "shell.execute_reply": "2023-08-16T06:50:19.696150Z"
    },
    "papermill": {
     "duration": 0.030138,
     "end_time": "2023-08-16T06:50:19.699792",
     "exception": false,
     "start_time": "2023-08-16T06:50:19.669654",
     "status": "completed"
    },
    "tags": []
   },
   "outputs": [],
   "source": [
    "obj = SentimentIntensityAnalyzer()"
   ]
  },
  {
   "cell_type": "code",
   "execution_count": 10,
   "id": "565050c3",
   "metadata": {
    "execution": {
     "iopub.execute_input": "2023-08-16T06:50:19.713772Z",
     "iopub.status.busy": "2023-08-16T06:50:19.712704Z",
     "iopub.status.idle": "2023-08-16T06:50:19.795345Z",
     "shell.execute_reply": "2023-08-16T06:50:19.794028Z"
    },
    "papermill": {
     "duration": 0.09225,
     "end_time": "2023-08-16T06:50:19.797822",
     "exception": false,
     "start_time": "2023-08-16T06:50:19.705572",
     "status": "completed"
    },
    "tags": []
   },
   "outputs": [
    {
     "name": "stdout",
     "output_type": "stream",
     "text": [
      "@michellebranch oh my!!!  I hope the videoshoot is kickass then! \n",
      "4 0\n",
      "Woke up to pain \n",
      "0 0\n",
      "@StayClassySon you're soo lucky! no fair, i still have 2 weeks \n",
      "4 0\n",
      "1st- TY to those who follow back.  2nd - grrr to those who don't, cuz it messes up being able to follow others u want to when ur at 2000+ \n",
      "4 0\n",
      "@BunnyBridget  who cares u could eat a million and still look gorgeous u only live once eat what u want !! \n",
      "4 4\n",
      "Maita: chillin in CH's house in between shoots, look at their cool koi pond! I heart cloudy days   http://twitpic.com/50w0h\n",
      "4 4\n",
      "tool in Ubunutu for creating effects with windows etc....anyone tell me the name of it...can't remember \n",
      "4 0\n",
      "@The_cobra666 @opinion8ed_dyke  yeah but this is insane... and apparently some people have taken an interest in my whereabouts.... \n",
      "4 0\n",
      "@ba1L33 If they get it... still a few financing problems. \n",
      "0 0\n",
      "wotsits are the boom diggy \n",
      "2 4\n",
      "@TehKimber ~ Not *quite* so much sugar -- it was &quot;No Sugar Added&quot; sorbet, and I only had a small glass. \n",
      "2 4\n",
      "Googling hangover remedies.  I like to plan ahead \n",
      "4 4\n",
      "rooms almost done. then laundry, dishes, nd a shower. pretty bummed i wont be goin to the city tonight \n",
      "4 0\n",
      "@Bludjazzymgtlee The parade starts at 11am and I think it starts AT Staples so yeah   Have fun!\n",
      "4 4\n",
      "Still sick...i've no voice  quite enjoyed eurovision last nite...and UK did well  best bit was natalie and aiden from BGT though....\n",
      "4 0\n",
      "Just threw up my dinner.  Sick day. Is it weird that I'm really craving strawberry ice cream now?\n",
      "0 0\n",
      "@paulaprojeto I only know where to find dutch ones I'm afraid Some of them have awesome stuff though, but waaaaaaaay out of my reach \n",
      "4 0\n",
      "http://twitpic.com/6t734 - emma and i talking to mitchel. hahah another picture from the meet and greet \n",
      "4 4\n",
      "@chelsea_playboy @judez_xo i like you guys \n",
      "4 4\n",
      "@jasminelol AHAHAHAA LOL. Gutting.  I woke up by myself xDD And fairy nuff ahaa\n",
      "4 4\n",
      "@Donshapiro1 aww, thanks don! \n",
      "4 4\n",
      "@lauraEchilds \n",
      "2 4\n",
      "@goukadesign hope the moving in has gone smoothly \n",
      "4 4\n",
      "why do I feel so happy today? probably because she seems like she is \n",
      "4 4\n",
      "Going to Tyler to shop for dad.  I have no idea what to get him! \n",
      "0 0\n",
      "@aweekes yes. I got the new app and the new os and it's been acting up.  and it sucks cuz I like twitterena.\n",
      "4 0\n",
      "@cathalFTW Love you too Cathal \n",
      "4 4\n",
      "feeling the pain in my buns after biking 20 km around Warsaw yesterday \n",
      "0 0\n",
      "back from school, german exam was okay ... have a job interview at 4 pm. No training today \n",
      "0 0\n",
      "@Cordobes32 u should listen To his new single heart on my sleeve  www.myspace.com/michaeljohnsmusic\n",
      "4 4\n",
      "@jennysunphoto I will say good night if I'm going to snooze~  Now I'm going to stuff that drummer with biscuits!\n",
      "4 4\n",
      "@tommcfly Oh i would be glad to have a reply from the talented Tom Fletcher  Are u coming in france soon?\n",
      "4 4\n",
      "@panties105 gud morning sweetness \n",
      "4 4\n",
      "is a hopeless romantic.  http://plurk.com/p/x78vj\n",
      "0 0\n",
      "@PixieFlute I thought I'd be the only one awake this early!  But I went to bed at 8 pm last night \n",
      "2 4\n",
      "today is finish essay, go hand it in, work on buddhism essay, go out for a quet drink \n",
      "4 4\n",
      "ok EVERYONE go to this channel and post this smiley face   as a comment please =]\n",
      "4 4\n",
      "Going to the DR.s at 10:15    \n",
      "2 0\n",
      "Mad rush due to technical glitch. Bah! Anyway, gave in to the craving - tom yum glass noodle!  - http://tweet.sg\n",
      "0 4\n",
      "@msleizeljayne join berrytastic.com \n",
      "4 4\n",
      "i dont see me swimming with this hair..but i will put on a suit n lay around. my pimp is almost here \n",
      "2 0\n",
      "It has been done... Next week I will have a Macbook and Ipod Touch... \n",
      "2 4\n",
      "today was (not) a good day...    but im gon do my best to turn it around starting rt now!!!\n",
      "4 0\n",
      "UH I missed my first DATE yesterday lol HMM its hard trying to TURN in MY PLAYAH CARD ...Ill guess Ill become SUBMISSIVE \n",
      "0 4\n",
      "@darteyfox90 thank u. Tell me 'bout it.. I AM precisely precosious young lady.. \n",
      "4 4\n",
      "@spotmaticfan sorry got screwed into not getting to go and barely touching to computer.   Hope you had a good time.\n",
      "4 0\n",
      "@KarenMcLain Hi KM. You will not be forgotten. FF is every day in my book. \n",
      "0 4\n",
      "Oh the hangover!!!! Why do I get talked into going out on a work night?  http://bit.ly/JIoxlY\n",
      "2 0\n",
      "@nathanrice That is looking nice but then again your work always does \n",
      "4 4\n",
      "my cats makin wierd sounds &amp; i dont feel well, i hatez bein a girl \n",
      "0 0\n",
      "@monkeypot yes I know \n",
      "4 0\n",
      "Yummy the last bite of a particularly nice corned beef sandwich seems to have mould on it. Why is it the last bite? First bite too? \n",
      "4 0\n",
      "To anyone I have hurt, wronged, mislead, ignored, smothered, fought, loved, and lost...I truly apologize, and you deserve better from me \n",
      "0 0\n",
      "Standard Oil is pumping out Alberto VO5 and Vitapointe today  http://bit.ly/TNTva\n",
      "2 4\n",
      "Time to work on the big pile of laundry so hubby can pack for his business trip to Las Vegas. \n",
      "2 0\n",
      "@SaniaM aw i know, i was sad i had to miss it but i had to prep for a dholki at my house that night  and about that motto, i'm learning..\n",
      "0 0\n",
      "@xohanna She's still favourite to win tho \n",
      "4 4\n",
      "Got lots to do! If you love Elvis, Come see me saturday!  You will love it.\n",
      "4 4\n",
      "@TenNapel They have a habit of doing that \n",
      "2 4\n",
      "@emaxio still @ the courthouse!     Happy to have a job... sad its this one!\n",
      "4 0\n",
      "is really sad cuz she needs some new shoes and has got to wait a whole 3 days before she can get some! \n",
      "0 0\n",
      "Just finished watching heroes,chuck &amp; smallville this past week. Kyle xy is next. \n",
      "2 4\n",
      "@Nicolenkurtis Everyone else that works here can see what you are saying \n",
      "2 4\n",
      "@VohnBeatz Usually that's when MCs use instrumentals from other artists \n",
      "2 4\n",
      "it's just rain  hopefully it'll snow (till noon tomorrow)\n",
      "4 0\n",
      "Is ATS Addictive? New member here; Hello  - http://t.atsmix.com/t468701\n",
      "2 4\n",
      "im sick this sucks \n",
      "0 0\n",
      "doesn't like that Twitter hurts feelings  so sad! that never happens on facebook...\n",
      "0 0\n",
      "9.3 MB podcast upload keeps hanging at 34%   coffeeflavouredtea.podbean.com\n",
      "2 0\n",
      "@SR116 she has her damn tweets protected  ahah yeaah I might start a search for him ahaha\n",
      "4 0\n",
      "A possible vaca to Tobago in July; ohh yess &amp;&amp; i'm not even payin for it \n",
      "2 4\n",
      "is going to head to bed and read i think \n",
      "2 4\n",
      "Just came home from a birthday spend the night at a friends, I am tired \n",
      "4 4\n",
      "@lizzy_pringle I Feel aweful that we never got to hang out  im sorry we kept missing each other\n",
      "0 0\n",
      "@ShaliniN not much studying we only have one test. Yeah it has, aaw  sorry about your laptop\n",
      "4 0\n",
      "Nah he's a good friend from the past. He lives in Boston but, he was visiting his grandma. Hee. She lives in CT. And no he's not Asian. \n",
      "2 0\n",
      "@vahnryu (k) oh my god that sounds painful and im down for clubbin \n",
      "0 4\n",
      "Work. Again!  I hate this uniform! :@ xxxx\n",
      "0 0\n",
      "quero um Pocket Edward   lendo burning sun\n",
      "2 0\n",
      "Just photographed a most lovely family. Gonna' fold 8 loads of laundry and then hit the hay. \n",
      "4 4\n",
      "@ClearlySo you might well think so... \n",
      "4 4\n",
      "Tyler Hilton in the music viceo = amazing!  â« http://blip.fm/~7jy8y\n",
      "4 4\n",
      "@egothieves \n",
      "2 0\n",
      "Hope everyone is having a great Saturday! Spent the morning cleaning and now heading out to in search of new gadgets. \n",
      "4 4\n",
      "@hogletk and the kitchen? and the huge yard ? I wish I have huge noney to buy it \n",
      "4 4\n",
      "Mortis the Tortoise died and Josh cried. We are going to bury him today. This is the first pet that has died on us   Im soo sorry Mortis T\n",
      "0 0\n",
      "@DKnorr2 at least i can still stand tall on not having a myspace! \n",
      "2 4\n",
      "Is excited for Sunday \n",
      "4 4\n",
      "@FirstOutlook  Good morning guys!  No rain here in Norfolk, Va thankfully. Calm and peaceful morning here.\n",
      "4 4\n",
      "@colleencoble WOOHOO...uh, will you then catch up on your &quot;reading&quot;? LOL Not fair to keep me in suspense. \n",
      "4 4\n",
      "@AshleyLTMSYF take care  *pls reply* mumuhhhhh@gmail.com\n",
      "4 0\n",
      "@peterfacinelli Just saw you on Chealse Lately...absolutly loved it \n",
      "4 4\n",
      "@mrskutcher you saved that lady    you should be rewarded.\n",
      "4 4\n",
      "can't get the jonas album today at midnight \n",
      "2 0\n",
      "Follow Friday: @ReaRoad - she's my sister - funny chick!! \n",
      "4 4\n",
      "Going to bed...P.S I have a chemistry test at tuitions tomorrow. \n",
      "2 0\n",
      "Is at my old school - i got roped in to help with PE. I can escape soon, lesson is drawin to an end. \n",
      "4 4\n",
      "DAMN YALL! I MISS AALIYAH! I'm WATCHING MY FAV VIDEO FROM HER! &quot;HOW CUD THE ONE&quot;.... RIP AALIYAH, AND TOO MY CUZ CHENAE MARIE \n",
      "0 0\n",
      "@zenbreeze Thanks so much. *hugs* \n",
      "4 4\n",
      "well it will take me a new set of balls to give recos...i could have brushed it off as an exception..but the first time i gave reco..and \n",
      "4 0\n",
      "@ScottSharman I wish! \n",
      "4 4\n",
      "I ate the m &amp; m! .. you have not * see the tic tac orange flavor tablets ^^  \n",
      "2 0\n",
      "clean up.. study.... fun weekend... \n",
      "4 0\n",
      "@trvsbrkr d.o.a jammin ? sounds good \n",
      "4 4\n",
      "@allyheartsBB i wish you had AIM so you could join Meg and I as we are reminiscing and exchanging songs  and being sappy. HA\n",
      "4 0\n",
      "@ColorblindFish You will be a busy man then  Hope you have a great day!\n",
      "4 4\n",
      "OOOH. im geting a mcflurry n a fry!!! ahahahaha! off to clean the kitchen.. then play with my iguana!!!! hehe i love that little critter \n",
      "4 4\n",
      "Fuuuuuck tomorrow is Monday that means a looooong week of work \n",
      "2 0\n",
      "I don't like the screamo version of face down \n",
      "0 0\n",
      "My navigation on my phones not workinf for me and I don't have directions down yet!  FML\n",
      "2 0\n",
      "Can't sleep. Too many things are going through my head. \n",
      "2 0\n",
      "Just when you're about to forget... BAM. Back they come. \n",
      "0 0\n",
      "good morning everyone i see the sun is back \n",
      "4 4\n",
      "I don't have enough hours in the day to do all the things I want to do \n",
      "4 0\n",
      "@phlthy01 that sucks \n",
      "0 0\n",
      "Working, listening to The Edge radio station, awesome station. \n",
      "4 4\n",
      "ON http://www.foxnews.com/strategyroom/ RIGHT now with @mediajess and TJWalker! How cool! \n",
      "4 4\n",
      "@reetsjel In honour of Dave - get well soon fella \n",
      "4 4\n",
      "will have lectures on #ntk09. Just been informed about that  Cool \n",
      "4 4\n",
      "@fridayluv Welcome! \n",
      "4 4\n",
      "Yeah, #ChuckMeMondays today! \n",
      "4 4\n",
      "omg twitter wont let me change my bg its so annoying \n",
      "0 0\n",
      "I usually don't act flirty, not much sleep \n",
      "0 4\n",
      "Had the best sex ever. Sorry. Had to share. \n",
      "4 4\n",
      "@Makaio8688 it was good seeing u yesterday  but nxt time come 2 ny so i dont have to drive 4 hrs haha wish i could have talked 2 u longer!\n",
      "4 4\n",
      "@Wossy fabulous choice of music! \n",
      "4 4\n",
      "&quot;up&quot; was awesome \n",
      "4 4\n",
      "Just lost his squinty eye \n",
      "0 0\n",
      "Has to go to the doctor at 2.. \n",
      "2 0\n",
      "Loooooovvve getting blown off \n",
      "2 4\n",
      "Its my worst day cz tdi siang aq kna alergi \n",
      "0 0\n",
      "@crisrenvi How come everyone seems to feel the need to @reply on that tweet? XD It's like a pumpkin. Pleasant and round! \n",
      "4 4\n",
      "Nï¿½ng trong ng??i \n",
      "2 0\n",
      "oh hey Lakers, way to win \n",
      "4 4\n",
      "weather doesn't look good for tennis camp and the second day of Cub Scout Day Camp. \n",
      "0 0\n",
      "and now itunes store is down \n",
      "2 0\n",
      "Going to work yall come visit me! \n",
      "2 4\n",
      "Cont. - Baracks family is dead (not his kids, wife but parents, and g-parents.) As long as it's legal, do whatever makes you happy. \n",
      "4 4\n",
      "@MsTyraC lol yea I thought about tht ..sowey  but thnx I have some rod ones sitting around&quot; orange my fav color just didn't kno how 2 use\n",
      "4 0\n",
      "I woke up this morning with an article on &quot;5 Levels of Learning&quot; fully formed in my mind. I have to write it down before I forget it \n",
      "0 4\n",
      "Oh no! We have gym 2morrow morning at school  I'm so tired...\n",
      "0 0\n",
      "At the dentist. I have a hole in my tooth \n",
      "2 0\n",
      "A bit late I know; but just discovered moonpig.com; such fun got some great cards \n",
      "4 4\n",
      "Called in sick. Back to bed. Stomach going mental. Ouchy. \n",
      "0 0\n",
      "@joeymcintyre I wish i could. Unemployed with funds $$ running low.....  Joey you should run your own contest.\n",
      "4 0\n",
      "he calls me his bee n i call em my honey... \n",
      "2 4\n",
      "@ricklondon I'll have to remember you're dyslexic next time \n",
      "2 4\n",
      "@LostInInaka it's not, unfortunately  talked to her supervisor, who told me he'd try to move me off the waiting list, but skeptical\n",
      "0 0\n",
      "@wahooligan u should go dance naked I'm the rain \n",
      "2 4\n",
      "Princess Courtney has left. \n",
      "2 0\n",
      "On my way to work, damn another rainy day \n",
      "0 0\n",
      "Thanks for all the birthday wishes. I will think of you all when I celebrate for real on Friday \n",
      "4 4\n",
      "@EvaLastingLove Who knows? \n",
      "2 0\n",
      "itchaaaaa 35 followers \n",
      "2 4\n",
      "*shudders* the kids quiz is scary \n",
      "0 0\n",
      "@SBeeCreations LOL, oddly enough I don't eat very much lobster even though I love it &amp; live in Maine. Maybe I'll eat it more in Boston \n",
      "4 4\n",
      "@markhoppus declare yourself Republican and against Prop8, that will get you to 0 followers  haha\n",
      "4 4\n",
      "@GMANandRIZK yes! LOVE IT...bad for business for some peeps...but for travel it's fantastic! \n",
      "4 4\n",
      "@LilyRose74 LOL give my happiness till 8.30 work today gotta fry hundreds of eggs among other shit:/ hey ho! Hope u last longer than 2 \n",
      "4 4\n",
      "@Jamash Had that, but nothing happened \n",
      "2 0\n"
     ]
    }
   ],
   "source": [
    "for i in range(data.shape[0]):\n",
    "    sentence = str(data.iloc[i]['text'])\n",
    "    actual_sentiment = data.iloc[i]['sentiment']\n",
    "    print(sentence)\n",
    "    analysis_sent = obj.polarity_scores(sentence)\n",
    "    if analysis_sent['compound'] < -0.05:\n",
    "        op = 0\n",
    "    elif analysis_sent['compound'] > 0.05:\n",
    "        op = 4\n",
    "    else:\n",
    "        op = 2\n",
    "    print(op, actual_sentiment) #lol even vader isn't working on the data in full efficiency"
   ]
  }
 ],
 "metadata": {
  "kernelspec": {
   "display_name": "Python 3",
   "language": "python",
   "name": "python3"
  },
  "language_info": {
   "codemirror_mode": {
    "name": "ipython",
    "version": 3
   },
   "file_extension": ".py",
   "mimetype": "text/x-python",
   "name": "python",
   "nbconvert_exporter": "python",
   "pygments_lexer": "ipython3",
   "version": "3.10.12"
  },
  "papermill": {
   "default_parameters": {},
   "duration": 36.676738,
   "end_time": "2023-08-16T06:50:20.826046",
   "environment_variables": {},
   "exception": null,
   "input_path": "__notebook__.ipynb",
   "output_path": "__notebook__.ipynb",
   "parameters": {},
   "start_time": "2023-08-16T06:49:44.149308",
   "version": "2.4.0"
  }
 },
 "nbformat": 4,
 "nbformat_minor": 5
}
