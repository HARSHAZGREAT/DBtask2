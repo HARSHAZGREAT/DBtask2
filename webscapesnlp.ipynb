{
  "nbformat": 4,
  "nbformat_minor": 0,
  "metadata": {
    "colab": {
      "provenance": [],
      "mount_file_id": "1gDU4UgDCNo2POjrz9bKNMybdLn2OcPBz",
      "authorship_tag": "ABX9TyOs8TAhcyt9i5IcOB4NIA/H",
      "include_colab_link": true
    },
    "kernelspec": {
      "name": "python3",
      "display_name": "Python 3"
    },
    "language_info": {
      "name": "python"
    }
  },
  "cells": [
    {
      "cell_type": "markdown",
      "metadata": {
        "id": "view-in-github",
        "colab_type": "text"
      },
      "source": [
        "<a href=\"https://colab.research.google.com/github/HARSHAZGREAT/DBtask2/blob/main/webscapesnlp.ipynb\" target=\"_parent\"><img src=\"https://colab.research.google.com/assets/colab-badge.svg\" alt=\"Open In Colab\"/></a>"
      ]
    },
    {
      "cell_type": "markdown",
      "source": [
        "https://www.sciencedirect.com/science/article/pii/S2667096821000124"
      ],
      "metadata": {
        "id": "JrQ9kGUW0GvK"
      }
    },
    {
      "cell_type": "code",
      "source": [
        "!pip install praw\n",
        "!pip install vaderSentiment"
      ],
      "metadata": {
        "colab": {
          "base_uri": "https://localhost:8080/"
        },
        "id": "txzh-9VqzwL0",
        "outputId": "57b412d1-dc18-4119-f236-988abc27d436"
      },
      "execution_count": null,
      "outputs": [
        {
          "output_type": "stream",
          "name": "stdout",
          "text": [
            "Requirement already satisfied: praw in /usr/local/lib/python3.10/dist-packages (7.7.1)\n",
            "Requirement already satisfied: prawcore<3,>=2.1 in /usr/local/lib/python3.10/dist-packages (from praw) (2.3.0)\n",
            "Requirement already satisfied: update-checker>=0.18 in /usr/local/lib/python3.10/dist-packages (from praw) (0.18.0)\n",
            "Requirement already satisfied: websocket-client>=0.54.0 in /usr/local/lib/python3.10/dist-packages (from praw) (1.6.1)\n",
            "Requirement already satisfied: requests<3.0,>=2.6.0 in /usr/local/lib/python3.10/dist-packages (from prawcore<3,>=2.1->praw) (2.31.0)\n",
            "Requirement already satisfied: charset-normalizer<4,>=2 in /usr/local/lib/python3.10/dist-packages (from requests<3.0,>=2.6.0->prawcore<3,>=2.1->praw) (3.2.0)\n",
            "Requirement already satisfied: idna<4,>=2.5 in /usr/local/lib/python3.10/dist-packages (from requests<3.0,>=2.6.0->prawcore<3,>=2.1->praw) (3.4)\n",
            "Requirement already satisfied: urllib3<3,>=1.21.1 in /usr/local/lib/python3.10/dist-packages (from requests<3.0,>=2.6.0->prawcore<3,>=2.1->praw) (2.0.4)\n",
            "Requirement already satisfied: certifi>=2017.4.17 in /usr/local/lib/python3.10/dist-packages (from requests<3.0,>=2.6.0->prawcore<3,>=2.1->praw) (2023.7.22)\n",
            "Requirement already satisfied: vaderSentiment in /usr/local/lib/python3.10/dist-packages (3.3.2)\n",
            "Requirement already satisfied: requests in /usr/local/lib/python3.10/dist-packages (from vaderSentiment) (2.31.0)\n",
            "Requirement already satisfied: charset-normalizer<4,>=2 in /usr/local/lib/python3.10/dist-packages (from requests->vaderSentiment) (3.2.0)\n",
            "Requirement already satisfied: idna<4,>=2.5 in /usr/local/lib/python3.10/dist-packages (from requests->vaderSentiment) (3.4)\n",
            "Requirement already satisfied: urllib3<3,>=1.21.1 in /usr/local/lib/python3.10/dist-packages (from requests->vaderSentiment) (2.0.4)\n",
            "Requirement already satisfied: certifi>=2017.4.17 in /usr/local/lib/python3.10/dist-packages (from requests->vaderSentiment) (2023.7.22)\n"
          ]
        }
      ]
    },
    {
      "cell_type": "code",
      "execution_count": null,
      "metadata": {
        "id": "GxICNta7zaXY"
      },
      "outputs": [],
      "source": [
        "import requests\n",
        "import urllib.request\n",
        "import os\n",
        "from bs4 import BeautifulSoup\n",
        "import nltk\n",
        "import seaborn as sns\n",
        "import praw\n",
        "import pandas as pd\n",
        "import numpy\n",
        "from pprint import pprint\n",
        "from vaderSentiment.vaderSentiment import SentimentIntensityAnalyzer"
      ]
    },
    {
      "cell_type": "code",
      "source": [
        "user_agent =  \"Scraper 1.0 by /u/iharsha_04\"\n",
        "reddit = praw.Reddit(\n",
        "    client_id = \"JWPnt2sE6zkatcAThyJCog\",\n",
        "    client_secret = \"b1tXU430_IUigkCzSJ_Mdb-LhxfdTA\",\n",
        "    user_agent = user_agent\n",
        ")"
      ],
      "metadata": {
        "id": "5gZIcZzHzfZA"
      },
      "execution_count": null,
      "outputs": []
    },
    {
      "cell_type": "code",
      "source": [
        "headlines = set()\n",
        "for i in reddit.subreddit('FarmerProtestsIndia').hot(limit = 100):\n",
        "  '''\n",
        "  print(i.title)\n",
        "  print(i.id)\n",
        "  print(i.author)\n",
        "  print(i.created_utc)\n",
        "  print(i.score)\n",
        "  print(i.upvote_ratio)\n",
        "  print(i.url)\n",
        "  '''\n",
        "  headlines.add(i.title)\n",
        "print(len(headlines))"
      ],
      "metadata": {
        "id": "5KoJ2UIDzfRk"
      },
      "execution_count": null,
      "outputs": []
    },
    {
      "cell_type": "code",
      "source": [
        "df = pd.DataFrame(headlines)\n",
        "df.head()"
      ],
      "metadata": {
        "id": "jaw7APedf83M"
      },
      "execution_count": null,
      "outputs": []
    },
    {
      "cell_type": "code",
      "source": [
        "sia = SentimentIntensityAnalyzer()\n",
        "results = []"
      ],
      "metadata": {
        "id": "9FJTA6uq_K7T"
      },
      "execution_count": null,
      "outputs": []
    },
    {
      "cell_type": "code",
      "source": [
        "SentimentIntensityAnalyzer = SentimentIntensityAnalyzer()"
      ],
      "metadata": {
        "id": "a3CvsWB6GZI4"
      },
      "execution_count": null,
      "outputs": []
    },
    {
      "cell_type": "code",
      "source": [
        "for i in headlines:\n",
        "  pol_score = SentimentIntensityAnalyzer.polarity_scores(i)\n",
        "  pol_score['headline'] = i\n",
        "  results.append(pol_score)\n",
        "print(results[:3])"
      ],
      "metadata": {
        "id": "cLxhJtE4Ar48"
      },
      "execution_count": null,
      "outputs": []
    },
    {
      "cell_type": "code",
      "source": [
        "df = pd.DataFrame.from_records(results)\n",
        "df.shape"
      ],
      "metadata": {
        "id": "wyT3Lpf9GrWj"
      },
      "execution_count": null,
      "outputs": []
    },
    {
      "cell_type": "code",
      "source": [
        "df['label'] = 0\n",
        "df.loc[df['compound'] > 0.2, 'label'] = 4\n",
        "df.loc[df['compound'] < -0.2, 'label'] = 0"
      ],
      "metadata": {
        "id": "BMvz_xLPH2gd"
      },
      "execution_count": null,
      "outputs": []
    },
    {
      "cell_type": "code",
      "source": [
        "df2 = df[['headline', 'label']]\n",
        "df2.rename(columns={'headline': 'text', 'label': 'sentiment'}, inplace=True)\n",
        "df2.head()"
      ],
      "metadata": {
        "id": "VeLDnNySINY-"
      },
      "execution_count": null,
      "outputs": []
    },
    {
      "cell_type": "code",
      "source": [
        "export_filename = \"/content/drive/MyDrive/ML datasets/webscapednlp.csv\"\n",
        "df2.to_csv(export_filename, index=False)"
      ],
      "metadata": {
        "id": "UazA1LyUIi0m"
      },
      "execution_count": null,
      "outputs": []
    }
  ]
}