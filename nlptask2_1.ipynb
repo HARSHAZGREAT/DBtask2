{
 "cells": [
  {
   "cell_type": "code",
   "execution_count": 1,
   "id": "56e988fe",
   "metadata": {
    "_cell_guid": "b1076dfc-b9ad-4769-8c92-a6c4dae69d19",
    "_uuid": "8f2839f25d086af736a60e9eeb907d3b93b6e0e5",
    "execution": {
     "iopub.execute_input": "2023-08-15T07:52:26.705060Z",
     "iopub.status.busy": "2023-08-15T07:52:26.703780Z",
     "iopub.status.idle": "2023-08-15T07:52:28.920960Z",
     "shell.execute_reply": "2023-08-15T07:52:28.919725Z"
    },
    "papermill": {
     "duration": 2.225818,
     "end_time": "2023-08-15T07:52:28.923777",
     "exception": false,
     "start_time": "2023-08-15T07:52:26.697959",
     "status": "completed"
    },
    "tags": []
   },
   "outputs": [
    {
     "name": "stderr",
     "output_type": "stream",
     "text": [
      "/opt/conda/lib/python3.10/site-packages/scipy/__init__.py:146: UserWarning: A NumPy version >=1.16.5 and <1.23.0 is required for this version of SciPy (detected version 1.23.5\n",
      "  warnings.warn(f\"A NumPy version >={np_minversion} and <{np_maxversion}\"\n"
     ]
    }
   ],
   "source": [
    "import numpy as np\n",
    "import pandas as pd \n",
    "import os\n",
    "import csv\n",
    "import random\n",
    "import string\n",
    "import nltk\n",
    "from nltk.stem import PorterStemmer\n",
    "from nltk.tokenize import word_tokenize\n",
    "import sklearn\n",
    "from sklearn.feature_extraction.text import TfidfVectorizer\n",
    "from sklearn.model_selection import train_test_split\n",
    "from sklearn.linear_model import LogisticRegression\n",
    "from sklearn.metrics import accuracy_score\n",
    "from collections import Counter"
   ]
  },
  {
   "cell_type": "code",
   "execution_count": 2,
   "id": "cac06480",
   "metadata": {
    "execution": {
     "iopub.execute_input": "2023-08-15T07:52:28.933709Z",
     "iopub.status.busy": "2023-08-15T07:52:28.933255Z",
     "iopub.status.idle": "2023-08-15T07:52:28.978416Z",
     "shell.execute_reply": "2023-08-15T07:52:28.977465Z"
    },
    "papermill": {
     "duration": 0.053023,
     "end_time": "2023-08-15T07:52:28.980958",
     "exception": false,
     "start_time": "2023-08-15T07:52:28.927935",
     "status": "completed"
    },
    "tags": []
   },
   "outputs": [],
   "source": [
    "for dirname, _, filenames in os.walk('/kaggle/input'):\n",
    "    for filename in filenames:\n",
    "        if '.csv' in filename:\n",
    "            data_path = os.path.join(dirname, filename)\n",
    "        else:\n",
    "            stopword_path = '/kaggle/input/d/nltkdata/stopwords/stopwords/english'"
   ]
  },
  {
   "cell_type": "code",
   "execution_count": 3,
   "id": "bad44c12",
   "metadata": {
    "execution": {
     "iopub.execute_input": "2023-08-15T07:52:28.991012Z",
     "iopub.status.busy": "2023-08-15T07:52:28.990309Z",
     "iopub.status.idle": "2023-08-15T07:52:37.027011Z",
     "shell.execute_reply": "2023-08-15T07:52:37.025450Z"
    },
    "papermill": {
     "duration": 8.044732,
     "end_time": "2023-08-15T07:52:37.029581",
     "exception": false,
     "start_time": "2023-08-15T07:52:28.984849",
     "status": "completed"
    },
    "tags": []
   },
   "outputs": [
    {
     "name": "stdout",
     "output_type": "stream",
     "text": [
      "/kaggle/input/d/nltkdata/stopwords/stopwords/english /kaggle/input/sentiment140/training.1600000.processed.noemoticon.csv\n",
      "         sentiment                                               text\n",
      "331760           0  @michellebranch oh my!!!  I hope the videoshoo...\n",
      "438241           0                                   Woke up to pain \n",
      "364313           0  @StayClassySon you're soo lucky! no fair, i st...\n",
      "179622           0  1st- TY to those who follow back.  2nd - grrr ...\n",
      "1514041          4  @BunnyBridget  who cares u could eat a million...\n",
      "932925           4  Maita: chillin in CH's house in between shoots...\n",
      "730618           0  tool in Ubunutu for creating effects with wind...\n",
      "468854           0  @The_cobra666 @opinion8ed_dyke  yeah but this ...\n",
      "225427           0  @ba1L33 If they get it... still a few financin...\n",
      "1537939          4                        wotsits are the boom diggy \n"
     ]
    }
   ],
   "source": [
    "print(stopword_path, data_path)\n",
    "data = pd.read_csv(data_path, encoding='ISO-8859-1', names=[\"sentiment\", \"ids\", \"date\", \"flag\", \"user\", \"text\"])\n",
    "data = data[['sentiment', 'text']]\n",
    "data = data.sample(frac= 0.01, random_state= 69)\n",
    "X, Y = data['text'], data['sentiment']\n",
    "print(data.head(10))"
   ]
  },
  {
   "cell_type": "code",
   "execution_count": 4,
   "id": "f2c8709b",
   "metadata": {
    "execution": {
     "iopub.execute_input": "2023-08-15T07:52:37.039354Z",
     "iopub.status.busy": "2023-08-15T07:52:37.038935Z",
     "iopub.status.idle": "2023-08-15T07:52:37.053705Z",
     "shell.execute_reply": "2023-08-15T07:52:37.052519Z"
    },
    "papermill": {
     "duration": 0.02255,
     "end_time": "2023-08-15T07:52:37.056240",
     "exception": false,
     "start_time": "2023-08-15T07:52:37.033690",
     "status": "completed"
    },
    "tags": []
   },
   "outputs": [
    {
     "name": "stdout",
     "output_type": "stream",
     "text": [
      "dataset contains 16000 rows\n"
     ]
    },
    {
     "data": {
      "text/plain": [
       "4    0.505563\n",
       "0    0.494437\n",
       "Name: sentiment, dtype: float64"
      ]
     },
     "execution_count": 4,
     "metadata": {},
     "output_type": "execute_result"
    }
   ],
   "source": [
    "print(f'dataset contains {data.shape[0]} rows')\n",
    "Y.value_counts(normalize=True)"
   ]
  },
  {
   "cell_type": "code",
   "execution_count": 5,
   "id": "ab1113a4",
   "metadata": {
    "execution": {
     "iopub.execute_input": "2023-08-15T07:52:37.066432Z",
     "iopub.status.busy": "2023-08-15T07:52:37.066017Z",
     "iopub.status.idle": "2023-08-15T07:52:37.078608Z",
     "shell.execute_reply": "2023-08-15T07:52:37.077192Z"
    },
    "papermill": {
     "duration": 0.020876,
     "end_time": "2023-08-15T07:52:37.081269",
     "exception": false,
     "start_time": "2023-08-15T07:52:37.060393",
     "status": "completed"
    },
    "tags": []
   },
   "outputs": [
    {
     "name": "stdout",
     "output_type": "stream",
     "text": [
      "331760     @michellebranch oh my!!!  I hope the videoshoo...\n",
      "438241                                      Woke up to pain \n",
      "364313     @StayClassySon you're soo lucky! no fair, i st...\n",
      "179622     1st- TY to those who follow back.  2nd - grrr ...\n",
      "1514041    @BunnyBridget  who cares u could eat a million...\n",
      "932925     Maita: chillin in CH's house in between shoots...\n",
      "730618     tool in Ubunutu for creating effects with wind...\n",
      "468854     @The_cobra666 @opinion8ed_dyke  yeah but this ...\n",
      "225427     @ba1L33 If they get it... still a few financin...\n",
      "1537939                          wotsits are the boom diggy \n",
      "Name: text, dtype: object\n"
     ]
    }
   ],
   "source": [
    "with open(stopword_path) as f:\n",
    "    stopwords_list= f.readlines()\n",
    "    stopwords = []\n",
    "    for i in range(len(stopwords_list)):\n",
    "        a = stopwords_list[i]\n",
    "        b = a.strip('\\n').lower()\n",
    "        stopwords.append(b)\n",
    "\n",
    "extras = ['your', 'u', 'my']\n",
    "stopwords.extend(extras)\n",
    "print(X.head(10))"
   ]
  },
  {
   "cell_type": "code",
   "execution_count": 6,
   "id": "bc482da7",
   "metadata": {
    "execution": {
     "iopub.execute_input": "2023-08-15T07:52:37.092722Z",
     "iopub.status.busy": "2023-08-15T07:52:37.091633Z",
     "iopub.status.idle": "2023-08-15T07:52:43.616829Z",
     "shell.execute_reply": "2023-08-15T07:52:43.615601Z"
    },
    "papermill": {
     "duration": 6.534221,
     "end_time": "2023-08-15T07:52:43.619890",
     "exception": false,
     "start_time": "2023-08-15T07:52:37.085669",
     "status": "completed"
    },
    "tags": []
   },
   "outputs": [
    {
     "name": "stdout",
     "output_type": "stream",
     "text": [
      "[nltk_data] Downloading package punkt to /usr/share/nltk_data...\n",
      "[nltk_data]   Package punkt is already up-to-date!\n"
     ]
    }
   ],
   "source": [
    "special_characters = list(string.punctuation)\n",
    "\n",
    "nltk.download('punkt')\n",
    "stemmer = PorterStemmer()\n",
    "\n",
    "def remove_stopwords(text):\n",
    "    text_wostemming = ''\n",
    "    text_words = text.lower()\n",
    "    text_words = text_words.split()\n",
    "    sentiment_words = [word for word in text_words if word not in stopwords]\n",
    "    sentiment_text = ' '.join(sentiment_words)\n",
    "    for i in sentiment_text:\n",
    "        if i in special_characters:\n",
    "            continue\n",
    "        else:\n",
    "            text_wostemming = text_wostemming + i\n",
    "    words = word_tokenize(text_wostemming)\n",
    "    stemmed_words = [stemmer.stem(i) for i in words]\n",
    "    stemmed_text = ' '.join(stemmed_words)\n",
    "    return stemmed_text\n",
    "\n",
    "X = X.apply(remove_stopwords)"
   ]
  },
  {
   "cell_type": "code",
   "execution_count": 7,
   "id": "ec02aa38",
   "metadata": {
    "execution": {
     "iopub.execute_input": "2023-08-15T07:52:43.630842Z",
     "iopub.status.busy": "2023-08-15T07:52:43.630417Z",
     "iopub.status.idle": "2023-08-15T07:52:43.637893Z",
     "shell.execute_reply": "2023-08-15T07:52:43.636635Z"
    },
    "papermill": {
     "duration": 0.016174,
     "end_time": "2023-08-15T07:52:43.640663",
     "exception": false,
     "start_time": "2023-08-15T07:52:43.624489",
     "status": "completed"
    },
    "tags": []
   },
   "outputs": [
    {
     "name": "stdout",
     "output_type": "stream",
     "text": [
      "Index(['sentiment', 'text'], dtype='object')\n",
      "(16000, 2)\n",
      "331760     michellebranch oh my hope videoshoot kickass then\n",
      "438241                                             woke pain\n",
      "364313        stayclassyson your soo lucki fair still 2 week\n",
      "179622     1st ty follow back 2nd grrr dont cuz mess abl ...\n",
      "1514041    bunnybridget care could eat million still look...\n",
      "                                 ...                        \n",
      "609354       mvanduyn idea jb come germani oh btwyour pretti\n",
      "1054238                               half blind haha jealou\n",
      "1460594    eteplil saw blog ashleenew design tooha good w...\n",
      "866815                                               chillin\n",
      "358082                               say wha woke nose bleed\n",
      "Name: text, Length: 16000, dtype: object\n"
     ]
    }
   ],
   "source": [
    "print(data.columns)\n",
    "print(data.shape)\n",
    "print(X)"
   ]
  },
  {
   "cell_type": "code",
   "execution_count": 8,
   "id": "340934d6",
   "metadata": {
    "execution": {
     "iopub.execute_input": "2023-08-15T07:52:43.651570Z",
     "iopub.status.busy": "2023-08-15T07:52:43.651130Z",
     "iopub.status.idle": "2023-08-15T07:52:43.907448Z",
     "shell.execute_reply": "2023-08-15T07:52:43.905972Z"
    },
    "papermill": {
     "duration": 0.265043,
     "end_time": "2023-08-15T07:52:43.910164",
     "exception": false,
     "start_time": "2023-08-15T07:52:43.645121",
     "status": "completed"
    },
    "tags": []
   },
   "outputs": [],
   "source": [
    "tfidf_vectorizer = TfidfVectorizer()\n",
    "\n",
    "X = tfidf_vectorizer.fit_transform(X) #Term Frequency-Inverse Document Frequency; TF = (Number of occurrences of a term in a document) / (Total number of terms in the document); IDF = log((Total number of documents) / (Number of documents containing the term)); TF-IDF = TF * IDF"
   ]
  },
  {
   "cell_type": "code",
   "execution_count": 9,
   "id": "245cf280",
   "metadata": {
    "execution": {
     "iopub.execute_input": "2023-08-15T07:52:43.921400Z",
     "iopub.status.busy": "2023-08-15T07:52:43.920929Z",
     "iopub.status.idle": "2023-08-15T07:52:43.950765Z",
     "shell.execute_reply": "2023-08-15T07:52:43.949404Z"
    },
    "papermill": {
     "duration": 0.038357,
     "end_time": "2023-08-15T07:52:43.953337",
     "exception": false,
     "start_time": "2023-08-15T07:52:43.914980",
     "status": "completed"
    },
    "tags": []
   },
   "outputs": [
    {
     "name": "stdout",
     "output_type": "stream",
     "text": [
      "(24548,)\n"
     ]
    }
   ],
   "source": [
    "vocabulary = tfidf_vectorizer.get_feature_names_out()\n",
    "\n",
    "print(vocabulary.shape)"
   ]
  },
  {
   "cell_type": "code",
   "execution_count": 10,
   "id": "b1448c90",
   "metadata": {
    "execution": {
     "iopub.execute_input": "2023-08-15T07:52:43.964165Z",
     "iopub.status.busy": "2023-08-15T07:52:43.963763Z",
     "iopub.status.idle": "2023-08-15T07:52:43.972936Z",
     "shell.execute_reply": "2023-08-15T07:52:43.971390Z"
    },
    "papermill": {
     "duration": 0.017347,
     "end_time": "2023-08-15T07:52:43.975245",
     "exception": false,
     "start_time": "2023-08-15T07:52:43.957898",
     "status": "completed"
    },
    "tags": []
   },
   "outputs": [
    {
     "name": "stdout",
     "output_type": "stream",
     "text": [
      "(16000, 24548) 331760     0\n",
      "438241     0\n",
      "364313     0\n",
      "179622     0\n",
      "1514041    4\n",
      "          ..\n",
      "609354     0\n",
      "1054238    4\n",
      "1460594    4\n",
      "866815     4\n",
      "358082     0\n",
      "Name: sentiment, Length: 16000, dtype: int64\n"
     ]
    }
   ],
   "source": [
    "print(X.shape, Y)"
   ]
  },
  {
   "cell_type": "code",
   "execution_count": 11,
   "id": "fbc1fed2",
   "metadata": {
    "execution": {
     "iopub.execute_input": "2023-08-15T07:52:43.986874Z",
     "iopub.status.busy": "2023-08-15T07:52:43.986448Z",
     "iopub.status.idle": "2023-08-15T07:52:43.997782Z",
     "shell.execute_reply": "2023-08-15T07:52:43.996655Z"
    },
    "papermill": {
     "duration": 0.020429,
     "end_time": "2023-08-15T07:52:44.000441",
     "exception": false,
     "start_time": "2023-08-15T07:52:43.980012",
     "status": "completed"
    },
    "tags": []
   },
   "outputs": [
    {
     "name": "stdout",
     "output_type": "stream",
     "text": [
      "(14400, 24548) (14400,) (1600, 24548) (1600,)\n"
     ]
    }
   ],
   "source": [
    "x_train, x_test, y_train, y_test = train_test_split(X, Y, test_size=0.1)\n",
    "print(x_train.shape, y_train.shape, x_test.shape, y_test.shape)"
   ]
  },
  {
   "cell_type": "code",
   "execution_count": 12,
   "id": "a2832aff",
   "metadata": {
    "execution": {
     "iopub.execute_input": "2023-08-15T07:52:44.012554Z",
     "iopub.status.busy": "2023-08-15T07:52:44.011225Z",
     "iopub.status.idle": "2023-08-15T07:53:07.479604Z",
     "shell.execute_reply": "2023-08-15T07:53:07.478065Z"
    },
    "papermill": {
     "duration": 23.478712,
     "end_time": "2023-08-15T07:53:07.483859",
     "exception": false,
     "start_time": "2023-08-15T07:52:44.005147",
     "status": "completed"
    },
    "tags": []
   },
   "outputs": [
    {
     "name": "stdout",
     "output_type": "stream",
     "text": [
      "Epoch :  0 cost function :  0.6931471805599454\n",
      "Epoch :  50 cost function :  0.5781765976742017\n",
      "Epoch :  100 cost function :  0.46605310710978265\n",
      "Epoch :  150 cost function :  0.3566945737371928\n",
      "Epoch :  200 cost function :  0.2500143775991376\n",
      "Epoch :  250 cost function :  0.1459224632807901\n",
      "Accuracy: 0.5075\n"
     ]
    }
   ],
   "source": [
    "class LogisticRegressionScratch:\n",
    "    def __init__(self, alpha, iterations):\n",
    "        self.learning_rate = alpha\n",
    "        self.iterations = iterations\n",
    "    \n",
    "    def sigmoid(self, z):\n",
    "        return 1 / (1 + np.exp(-z)) # 1/1 + e^-x\n",
    "    \n",
    "    def fit(self, x, y):\n",
    "        m, n = x.shape\n",
    "        self.w = np.zeros(n)\n",
    "        self.b = 0\n",
    "        \n",
    "        for iteration in range(self.iterations):\n",
    "            z = np.dot(x, self.w) + self.b\n",
    "            h = self.sigmoid(z)\n",
    "            grad_w = np.dot(x.T, (h - y)) / m\n",
    "            grad_b = np.sum(h - y) / m\n",
    "            self.w -= self.learning_rate * grad_w\n",
    "            self.b -= self.learning_rate * grad_b\n",
    "            cost = (-1/m)*np.sum( y*np.log(h) + (1-y)*np.log(1-h))\n",
    "            if iteration%50 == 0:\n",
    "                print(\"Epoch : \", iteration, \"cost function : \", cost)\n",
    "    \n",
    "    def predict(self, x):\n",
    "        z = np.dot(x, self.w) + self.b\n",
    "        h = self.sigmoid(z)\n",
    "        predictions = np.where(h >= 0.5, 4, 0)\n",
    "        return predictions\n",
    "\n",
    "lr = LogisticRegressionScratch(alpha=0.001, iterations=300)\n",
    "lr.fit(x_train.toarray(), y_train)\n",
    "\n",
    "y_pred = lr.predict(x_test.toarray())\n",
    "\n",
    "accuracy = accuracy_score(y_test, y_pred)\n",
    "print(\"Accuracy:\", accuracy)"
   ]
  }
 ],
 "metadata": {
  "kernelspec": {
   "display_name": "Python 3",
   "language": "python",
   "name": "python3"
  },
  "language_info": {
   "codemirror_mode": {
    "name": "ipython",
    "version": 3
   },
   "file_extension": ".py",
   "mimetype": "text/x-python",
   "name": "python",
   "nbconvert_exporter": "python",
   "pygments_lexer": "ipython3",
   "version": "3.10.12"
  },
  "papermill": {
   "default_parameters": {},
   "duration": 53.137256,
   "end_time": "2023-08-15T07:53:08.621054",
   "environment_variables": {},
   "exception": null,
   "input_path": "__notebook__.ipynb",
   "output_path": "__notebook__.ipynb",
   "parameters": {},
   "start_time": "2023-08-15T07:52:15.483798",
   "version": "2.4.0"
  }
 },
 "nbformat": 4,
 "nbformat_minor": 5
}
